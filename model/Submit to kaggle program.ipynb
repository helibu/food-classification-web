{
 "cells": [
  {
   "cell_type": "code",
   "execution_count": null,
   "metadata": {
    "_cell_guid": "b1076dfc-b9ad-4769-8c92-a6c4dae69d19",
    "_uuid": "8f2839f25d086af736a60e9eeb907d3b93b6e0e5"
   },
   "outputs": [],
   "source": [
    "# This Python 3 environment comes with many helpful analytics libraries installed\n",
    "# It is defined by the kaggle/python docker image: https://github.com/kaggle/docker-python\n",
    "# For example, here's several helpful packages to load in \n",
    "\n",
    "import numpy as np # linear algebra\n",
    "import pandas as pd # data processing, CSV file I/O (e.g. pd.read_csv)\n",
    "\n",
    "# Input data files are available in the \"../input/\" directory.\n",
    "# For example, running this (by clicking run or pressing Shift+Enter) will list the files in the input directory\n",
    "import matplotlib.pyplot as plt\n",
    "from skimage.data import imread\n",
    "import os,cv2\n",
    "from keras.models import Sequential, Model, load_model\n",
    "print(os.listdir(\"../input\"))\n",
    "\n",
    "# Any results you write to the current directory are saved as output."
   ]
  },
  {
   "cell_type": "code",
   "execution_count": null,
   "metadata": {
    "_cell_guid": "79c7e3d0-c299-4dcb-8224-4455121ee9b0",
    "_uuid": "d629ff2d2480ee46fbb7e2d37f6b5fab8052498a"
   },
   "outputs": [],
   "source": [
    "train = pd.read_csv('../input/bufoodphone/train.csv')\n",
    "test = pd.read_csv('../input/bufoodphone/test.csv')\n",
    "train.head(5)\n",
    "\n"
   ]
  },
  {
   "cell_type": "code",
   "execution_count": null,
   "metadata": {
    "_uuid": "997ca6c2f2af7cb739fc044a9321987c09632731"
   },
   "outputs": [],
   "source": [
    "food_model = load_model(filepath='../input/foodphone-model2/model2.h5')"
   ]
  },
  {
   "cell_type": "code",
   "execution_count": null,
   "metadata": {
    "_uuid": "651d9a0dba9204f85f0b2096c911e0bd0938d183"
   },
   "outputs": [],
   "source": [
    "#food_model.summary()"
   ]
  },
  {
   "cell_type": "markdown",
   "metadata": {
    "_uuid": "5523eb9cf26017c4f47d2935964625e74aeb07f4"
   },
   "source": [
    "## Load test image Data"
   ]
  },
  {
   "cell_type": "code",
   "execution_count": null,
   "metadata": {
    "_uuid": "27ed467d22926525e0014a4a9fc9ecf5e4fbe19c"
   },
   "outputs": [],
   "source": [
    "images = np.load('../input/food-resized-image/test3.npy')"
   ]
  },
  {
   "cell_type": "code",
   "execution_count": null,
   "metadata": {
    "_uuid": "0ddc66f3fe8f42dbe9b0c12cedd443be20a154f7"
   },
   "outputs": [],
   "source": [
    "print(images.shape)"
   ]
  },
  {
   "cell_type": "code",
   "execution_count": null,
   "metadata": {
    "_uuid": "8fc30e8e8c5ca7f335ce65b9d7f3449136669cfe"
   },
   "outputs": [],
   "source": [
    "files =  np.load('../input/food-test-filenames/files_array.npy')"
   ]
  },
  {
   "cell_type": "code",
   "execution_count": null,
   "metadata": {
    "_uuid": "eecf8a5e48ac39c3162bcefdfc564b4ee1da4d8a"
   },
   "outputs": [],
   "source": [
    "print(files.shape)"
   ]
  },
  {
   "cell_type": "markdown",
   "metadata": {
    "_uuid": "1c48a85073afb54686d40b3f272f60baeba6ca7d"
   },
   "source": [
    "# Predict the test data"
   ]
  },
  {
   "cell_type": "code",
   "execution_count": null,
   "metadata": {
    "_uuid": "ffa068a4bb29c48b544201cfb9e4fc711f8ca06e"
   },
   "outputs": [],
   "source": [
    "_, ax = plt.subplots(3,3, figsize=(12,12))\n",
    "for i in range(3):\n",
    "    for j in range(3):\n",
    "      ax[i,j].imshow(cv2.cvtColor(images[(i*200)+j], cv2.COLOR_BGR2RGB))\n",
    "      ax[i,j].axis('on')\n",
    "      #ax[i,j].set_title(train_types_arr[(i*200)+j], size = 20)\n",
    "     # ax[i,j].set_title(train_types_arr[(i*200)+j], size = 20)"
   ]
  },
  {
   "cell_type": "code",
   "execution_count": null,
   "metadata": {
    "_uuid": "b4a083a966f68397b9de72d83c8fc01dec190717"
   },
   "outputs": [],
   "source": [
    "#plt.hist(train_types_arr,101)"
   ]
  },
  {
   "cell_type": "code",
   "execution_count": null,
   "metadata": {
    "_uuid": "fa40b47d421f88f4f6bf60ca228125958378ba2d"
   },
   "outputs": [],
   "source": [
    "To_class = train.food_type.unique()\n",
    "print(To_class[0])"
   ]
  },
  {
   "cell_type": "markdown",
   "metadata": {
    "_uuid": "add26acc1365ac03e234e6712da7c382313b2327"
   },
   "source": [
    "## Use trained model to predict test images "
   ]
  },
  {
   "cell_type": "code",
   "execution_count": null,
   "metadata": {
    "_uuid": "435e9c3643989871818e93829fdfb9eddc434af9"
   },
   "outputs": [],
   "source": [
    "from keras.applications.inception_v3 import InceptionV3\n",
    "from keras.applications.inception_v3 import preprocess_input, decode_predictions\n",
    "from keras.layers import Input\n",
    "from keras.models import Sequential, Model\n",
    "from keras.layers import Dense, Dropout, Activation, Flatten\n",
    "from keras.layers import Convolution2D, MaxPooling2D, ZeroPadding2D, GlobalAveragePooling2D, AveragePooling2D\n",
    "from keras.layers.normalization import BatchNormalization\n",
    "import keras.backend as K\n",
    "from keras.optimizers import SGD, RMSprop, Adam\n",
    "from keras.regularizers import l2"
   ]
  },
  {
   "cell_type": "code",
   "execution_count": null,
   "metadata": {
    "_uuid": "05aa6121de6c8cebf61c9e8b20c63fed768b6dbb"
   },
   "outputs": [],
   "source": [
    "#food_model.summary()"
   ]
  },
  {
   "cell_type": "code",
   "execution_count": null,
   "metadata": {
    "_uuid": "e0438c16deb1194f6c828e90786e984002f8a8bf"
   },
   "outputs": [],
   "source": [
    "y_pred = food_model.predict(images)"
   ]
  },
  {
   "cell_type": "code",
   "execution_count": null,
   "metadata": {
    "_uuid": "ce8df8c8df27d59c99798ce67a3c6755b0f2166f"
   },
   "outputs": [],
   "source": [
    "y_pred_num=np.argmax(y_pred, axis = 1)"
   ]
  },
  {
   "cell_type": "code",
   "execution_count": null,
   "metadata": {
    "_uuid": "3ff982ba049d2b787ca6ba2a8ea4b32bb8064b77"
   },
   "outputs": [],
   "source": [
    "def num_to_class(index):\n",
    "    return To_class[index]\n",
    "\n",
    "y_pred_class = num_to_class(y_pred_num)\n",
    "print(y_pred_class)"
   ]
  },
  {
   "cell_type": "code",
   "execution_count": null,
   "metadata": {
    "_uuid": "3c004a249ceb093d4e3c35d15584f12d9b4b6c06"
   },
   "outputs": [],
   "source": [
    "np.save('y_pred_1.npy', y_pred_class)"
   ]
  },
  {
   "cell_type": "code",
   "execution_count": null,
   "metadata": {
    "_uuid": "2cb5e4b75e644f25a16316fd9054e9fb2c31fbf4"
   },
   "outputs": [],
   "source": [
    "pd.DataFrame({\"filename\": files,\"food_type\": y_pred_class}).to_csv('foodphone_result.csv', index=False,header=True)"
   ]
  }
 ],
 "metadata": {
  "kernelspec": {
   "display_name": "Python 3",
   "language": "python",
   "name": "python3"
  },
  "language_info": {
   "codemirror_mode": {
    "name": "ipython",
    "version": 3
   },
   "file_extension": ".py",
   "mimetype": "text/x-python",
   "name": "python",
   "nbconvert_exporter": "python",
   "pygments_lexer": "ipython3",
   "version": "3.6.5"
  }
 },
 "nbformat": 4,
 "nbformat_minor": 1
}
